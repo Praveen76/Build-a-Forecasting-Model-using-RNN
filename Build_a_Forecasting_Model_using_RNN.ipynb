{
  "cells": [
    {
      "cell_type": "markdown",
      "metadata": {
        "id": "view-in-github",
        "colab_type": "text"
      },
      "source": [
        "<a href=\"https://colab.research.google.com/github/Praveen76/Build-a-Forecasting-Model-using-RNN/blob/main/Build_a_Forecasting_Model_using_RNN.ipynb\" target=\"_parent\"><img src=\"https://colab.research.google.com/assets/colab-badge.svg\" alt=\"Open In Colab\"/></a>"
      ]
    },
    {
      "cell_type": "markdown",
      "metadata": {
        "id": "-tdtrlAhvIHY"
      },
      "source": [
        "## Learning Objectives\n",
        "\n",
        "At the end of the experiment, you will be able to:\n",
        "\n",
        "* understand and pre-process the time series data\n",
        "* understand different Recurrent Neural Networks - SimpleRNN, LSTM, GRU\n",
        "* implement RNNs for temperature-forecasting\n",
        "* understand advanced RNN concepts such as recurrent dropout, stacking recurrent layers, and Bi-directional RNNs"
      ]
    },
    {
      "cell_type": "markdown",
      "metadata": {
        "id": "99T4Hpq0yMmv"
      },
      "source": [
        "## Time Series"
      ]
    },
    {
      "cell_type": "markdown",
      "source": [
        "A **time series** is a series of data points indexed in time. It is a sequence of observations recorded at regular time intervals. Analysis can be perofrmed on time series data so as to discover patterns, spot anomalies, test hypothesis and to check assumptions with the help of summary statistics and graphical representations.\n",
        "\n",
        "For examples, different kinds of time series tasks includes:\n",
        "\n",
        "* **Classification** —Assign one or more categorical labels to a time series. For instance,\n",
        "given the time series of the activity of a visitor on a website, classify whether the\n",
        "visitor is a bot or a human.\n",
        "* **Event detection** —Identify the occurrence of a specific expected event within a\n",
        "continuous data stream. A particularly useful application is “hot word detection,” where a model monitors an audio stream and detects utterances like “Ok\n",
        "Google” or “Hey Alexa.”\n",
        "\n"
      ],
      "metadata": {
        "id": "pyNxWMni3-mF"
      }
    },
    {
      "cell_type": "markdown",
      "metadata": {
        "id": "njgWG-3myMmw"
      },
      "source": [
        "## Temperature-forecasting"
      ]
    },
    {
      "cell_type": "markdown",
      "source": [
        "**Problem statement**:\n",
        "\n",
        "Given a time series of hourly measurements of various atmospheric parameters, **predict** the temperature 24 hours in the future.\n",
        "\n",
        "\n",
        "**Goal**:\n",
        "\n",
        "To demonstrate that RNNs perform better than Dense or Convolutional Networks for time-series data."
      ],
      "metadata": {
        "id": "Mltb5X4KPU1c"
      }
    },
    {
      "cell_type": "markdown",
      "source": [
        "## Dataset Description"
      ],
      "metadata": {
        "id": "SQtDljDERxmY"
      }
    },
    {
      "cell_type": "markdown",
      "source": [
        "We will be using Jena Climate dataset recorded by the Max Planck Institute for Biogeochemistry. The dataset consists of 14 features such as temperature, pressure, humidity etc, recorded once per 10 minutes.\n",
        "\n",
        "Features includes:\n",
        "\n",
        "* ***Date Time***:\tdate-time reference\n",
        "* ***p (mbar)***: the pascal SI derived unit of pressure used to quantify internal pressure. Meteorological reports typically state atmospheric pressure in millibars.\n",
        "* ***T (degC)***: temperature in Celsius\n",
        "* ***pot (K)***:\ttemperature in Kelvin\n",
        "* ***Tdew (degC)***:\ttemperature in Celsius relative to humidity. Dew Point is a measure of the absolute amount of water in the air, the DP is the temperature at which the air cannot hold all the moisture in it and water condenses.\n",
        "* ***rh (%)***:\trelative Humidity is a measure of how saturated the air is with water vapor, the %RH determines the amount of water contained within collection objects.\n",
        "* ***VPmax (mbar)***:\tsaturation vapor pressure\n",
        "* ***VPact (mbar)***:\tvapor pressure\n",
        "* ***VPdef (mbar)***: vapor pressure deficit\n",
        "* ***sh (g/kg)***:\tspecific humidity\n",
        "* ***H2OC (mmol/mol)***:\twater vapor concentration\n",
        "* ***rho (g/m ** 3)***:\tairtight\n",
        "* ***wv (m/s)***:\twind speed\n",
        "* ***max. wv (m/s)***:\tmaximum wind speed\n",
        "* ***wd (deg)***:\twind direction in degrees"
      ],
      "metadata": {
        "id": "jbZ7rHhgR05z"
      }
    },
    {
      "cell_type": "code",
      "source": [
        "#@title Download the dataset\n",
        "!wget https://cdn.iisc.talentsprint.com/AIandMLOps/Datasets/jena_climate_2009_2016.csv\n",
        "print(\"Dataset downloaded successfully!\")\n",
        "!ls | grep \".csv\""
      ],
      "metadata": {
        "colab": {
          "base_uri": "https://localhost:8080/"
        },
        "cellView": "form",
        "id": "mnv3u1Cs092c",
        "outputId": "3b5ae954-4aff-415c-f42e-f77a06121051"
      },
      "execution_count": 1,
      "outputs": [
        {
          "output_type": "stream",
          "name": "stdout",
          "text": [
            "--2024-03-18 06:22:54--  https://cdn.iisc.talentsprint.com/AIandMLOps/Datasets/jena_climate_2009_2016.csv\n",
            "Resolving cdn.iisc.talentsprint.com (cdn.iisc.talentsprint.com)... 172.105.52.210\n",
            "Connecting to cdn.iisc.talentsprint.com (cdn.iisc.talentsprint.com)|172.105.52.210|:443... connected.\n",
            "HTTP request sent, awaiting response... 200 OK\n",
            "Length: 43164220 (41M) [application/octet-stream]\n",
            "Saving to: ‘jena_climate_2009_2016.csv’\n",
            "\n",
            "jena_climate_2009_2 100%[===================>]  41.16M  8.81MB/s    in 5.6s    \n",
            "\n",
            "2024-03-18 06:23:01 (7.37 MB/s) - ‘jena_climate_2009_2016.csv’ saved [43164220/43164220]\n",
            "\n",
            "Dataset downloaded successfully!\n",
            "jena_climate_2009_2016.csv\n"
          ]
        }
      ]
    },
    {
      "cell_type": "markdown",
      "metadata": {
        "id": "9RH8Ecq9sbYU"
      },
      "source": [
        "### Importing Required Packages"
      ]
    },
    {
      "cell_type": "code",
      "source": [
        "import os\n",
        "import numpy as np\n",
        "import pandas as pd\n",
        "from matplotlib import pyplot as plt\n",
        "import tensorflow as tf\n",
        "from tensorflow import keras\n",
        "from tensorflow.keras import layers\n",
        "from tensorflow.keras.utils import plot_model"
      ],
      "metadata": {
        "id": "vjo7vYK4ukzm"
      },
      "execution_count": 2,
      "outputs": []
    },
    {
      "cell_type": "markdown",
      "metadata": {
        "id": "QdT0aESgsVPU"
      },
      "source": [
        "### Load the Dataset"
      ]
    },
    {
      "cell_type": "code",
      "execution_count": 3,
      "metadata": {
        "id": "sMdcQBojyMmy"
      },
      "outputs": [],
      "source": [
        "df = pd.read_csv('/content/jena_climate_2009_2016.csv')\n",
        "# Slice [start:stop:step], starting from index 5 take every 6th record.\n",
        "#df = df[5::6]\n",
        "\n",
        "date_time = pd.to_datetime(df.pop('Date Time'), format='%d.%m.%Y %H:%M:%S')"
      ]
    },
    {
      "cell_type": "code",
      "source": [
        "df.shape"
      ],
      "metadata": {
        "id": "WrbRZo-AAf_B",
        "colab": {
          "base_uri": "https://localhost:8080/"
        },
        "outputId": "edca4075-179a-49d0-9e2b-466fe35986c5"
      },
      "execution_count": 4,
      "outputs": [
        {
          "output_type": "execute_result",
          "data": {
            "text/plain": [
              "(420551, 14)"
            ]
          },
          "metadata": {},
          "execution_count": 4
        }
      ]
    },
    {
      "cell_type": "code",
      "source": [
        "df.head()"
      ],
      "metadata": {
        "id": "xDZkl5PcvRpj",
        "colab": {
          "base_uri": "https://localhost:8080/",
          "height": 206
        },
        "outputId": "632becb5-0adc-4070-d945-bcc4ed87e688"
      },
      "execution_count": 5,
      "outputs": [
        {
          "output_type": "execute_result",
          "data": {
            "text/plain": [
              "   p (mbar)  T (degC)  Tpot (K)  Tdew (degC)  rh (%)  VPmax (mbar)  \\\n",
              "0    996.52     -8.02    265.40        -8.90    93.3          3.33   \n",
              "1    996.57     -8.41    265.01        -9.28    93.4          3.23   \n",
              "2    996.53     -8.51    264.91        -9.31    93.9          3.21   \n",
              "3    996.51     -8.31    265.12        -9.07    94.2          3.26   \n",
              "4    996.51     -8.27    265.15        -9.04    94.1          3.27   \n",
              "\n",
              "   VPact (mbar)  VPdef (mbar)  sh (g/kg)  H2OC (mmol/mol)  rho (g/m**3)  \\\n",
              "0          3.11          0.22       1.94             3.12       1307.75   \n",
              "1          3.02          0.21       1.89             3.03       1309.80   \n",
              "2          3.01          0.20       1.88             3.02       1310.24   \n",
              "3          3.07          0.19       1.92             3.08       1309.19   \n",
              "4          3.08          0.19       1.92             3.09       1309.00   \n",
              "\n",
              "   wv (m/s)  max. wv (m/s)  wd (deg)  \n",
              "0      1.03           1.75     152.3  \n",
              "1      0.72           1.50     136.1  \n",
              "2      0.19           0.63     171.6  \n",
              "3      0.34           0.50     198.0  \n",
              "4      0.32           0.63     214.3  "
            ],
            "text/html": [
              "\n",
              "  <div id=\"df-3bfedde5-f827-458e-a268-e56a5999c768\" class=\"colab-df-container\">\n",
              "    <div>\n",
              "<style scoped>\n",
              "    .dataframe tbody tr th:only-of-type {\n",
              "        vertical-align: middle;\n",
              "    }\n",
              "\n",
              "    .dataframe tbody tr th {\n",
              "        vertical-align: top;\n",
              "    }\n",
              "\n",
              "    .dataframe thead th {\n",
              "        text-align: right;\n",
              "    }\n",
              "</style>\n",
              "<table border=\"1\" class=\"dataframe\">\n",
              "  <thead>\n",
              "    <tr style=\"text-align: right;\">\n",
              "      <th></th>\n",
              "      <th>p (mbar)</th>\n",
              "      <th>T (degC)</th>\n",
              "      <th>Tpot (K)</th>\n",
              "      <th>Tdew (degC)</th>\n",
              "      <th>rh (%)</th>\n",
              "      <th>VPmax (mbar)</th>\n",
              "      <th>VPact (mbar)</th>\n",
              "      <th>VPdef (mbar)</th>\n",
              "      <th>sh (g/kg)</th>\n",
              "      <th>H2OC (mmol/mol)</th>\n",
              "      <th>rho (g/m**3)</th>\n",
              "      <th>wv (m/s)</th>\n",
              "      <th>max. wv (m/s)</th>\n",
              "      <th>wd (deg)</th>\n",
              "    </tr>\n",
              "  </thead>\n",
              "  <tbody>\n",
              "    <tr>\n",
              "      <th>0</th>\n",
              "      <td>996.52</td>\n",
              "      <td>-8.02</td>\n",
              "      <td>265.40</td>\n",
              "      <td>-8.90</td>\n",
              "      <td>93.3</td>\n",
              "      <td>3.33</td>\n",
              "      <td>3.11</td>\n",
              "      <td>0.22</td>\n",
              "      <td>1.94</td>\n",
              "      <td>3.12</td>\n",
              "      <td>1307.75</td>\n",
              "      <td>1.03</td>\n",
              "      <td>1.75</td>\n",
              "      <td>152.3</td>\n",
              "    </tr>\n",
              "    <tr>\n",
              "      <th>1</th>\n",
              "      <td>996.57</td>\n",
              "      <td>-8.41</td>\n",
              "      <td>265.01</td>\n",
              "      <td>-9.28</td>\n",
              "      <td>93.4</td>\n",
              "      <td>3.23</td>\n",
              "      <td>3.02</td>\n",
              "      <td>0.21</td>\n",
              "      <td>1.89</td>\n",
              "      <td>3.03</td>\n",
              "      <td>1309.80</td>\n",
              "      <td>0.72</td>\n",
              "      <td>1.50</td>\n",
              "      <td>136.1</td>\n",
              "    </tr>\n",
              "    <tr>\n",
              "      <th>2</th>\n",
              "      <td>996.53</td>\n",
              "      <td>-8.51</td>\n",
              "      <td>264.91</td>\n",
              "      <td>-9.31</td>\n",
              "      <td>93.9</td>\n",
              "      <td>3.21</td>\n",
              "      <td>3.01</td>\n",
              "      <td>0.20</td>\n",
              "      <td>1.88</td>\n",
              "      <td>3.02</td>\n",
              "      <td>1310.24</td>\n",
              "      <td>0.19</td>\n",
              "      <td>0.63</td>\n",
              "      <td>171.6</td>\n",
              "    </tr>\n",
              "    <tr>\n",
              "      <th>3</th>\n",
              "      <td>996.51</td>\n",
              "      <td>-8.31</td>\n",
              "      <td>265.12</td>\n",
              "      <td>-9.07</td>\n",
              "      <td>94.2</td>\n",
              "      <td>3.26</td>\n",
              "      <td>3.07</td>\n",
              "      <td>0.19</td>\n",
              "      <td>1.92</td>\n",
              "      <td>3.08</td>\n",
              "      <td>1309.19</td>\n",
              "      <td>0.34</td>\n",
              "      <td>0.50</td>\n",
              "      <td>198.0</td>\n",
              "    </tr>\n",
              "    <tr>\n",
              "      <th>4</th>\n",
              "      <td>996.51</td>\n",
              "      <td>-8.27</td>\n",
              "      <td>265.15</td>\n",
              "      <td>-9.04</td>\n",
              "      <td>94.1</td>\n",
              "      <td>3.27</td>\n",
              "      <td>3.08</td>\n",
              "      <td>0.19</td>\n",
              "      <td>1.92</td>\n",
              "      <td>3.09</td>\n",
              "      <td>1309.00</td>\n",
              "      <td>0.32</td>\n",
              "      <td>0.63</td>\n",
              "      <td>214.3</td>\n",
              "    </tr>\n",
              "  </tbody>\n",
              "</table>\n",
              "</div>\n",
              "    <div class=\"colab-df-buttons\">\n",
              "\n",
              "  <div class=\"colab-df-container\">\n",
              "    <button class=\"colab-df-convert\" onclick=\"convertToInteractive('df-3bfedde5-f827-458e-a268-e56a5999c768')\"\n",
              "            title=\"Convert this dataframe to an interactive table.\"\n",
              "            style=\"display:none;\">\n",
              "\n",
              "  <svg xmlns=\"http://www.w3.org/2000/svg\" height=\"24px\" viewBox=\"0 -960 960 960\">\n",
              "    <path d=\"M120-120v-720h720v720H120Zm60-500h600v-160H180v160Zm220 220h160v-160H400v160Zm0 220h160v-160H400v160ZM180-400h160v-160H180v160Zm440 0h160v-160H620v160ZM180-180h160v-160H180v160Zm440 0h160v-160H620v160Z\"/>\n",
              "  </svg>\n",
              "    </button>\n",
              "\n",
              "  <style>\n",
              "    .colab-df-container {\n",
              "      display:flex;\n",
              "      gap: 12px;\n",
              "    }\n",
              "\n",
              "    .colab-df-convert {\n",
              "      background-color: #E8F0FE;\n",
              "      border: none;\n",
              "      border-radius: 50%;\n",
              "      cursor: pointer;\n",
              "      display: none;\n",
              "      fill: #1967D2;\n",
              "      height: 32px;\n",
              "      padding: 0 0 0 0;\n",
              "      width: 32px;\n",
              "    }\n",
              "\n",
              "    .colab-df-convert:hover {\n",
              "      background-color: #E2EBFA;\n",
              "      box-shadow: 0px 1px 2px rgba(60, 64, 67, 0.3), 0px 1px 3px 1px rgba(60, 64, 67, 0.15);\n",
              "      fill: #174EA6;\n",
              "    }\n",
              "\n",
              "    .colab-df-buttons div {\n",
              "      margin-bottom: 4px;\n",
              "    }\n",
              "\n",
              "    [theme=dark] .colab-df-convert {\n",
              "      background-color: #3B4455;\n",
              "      fill: #D2E3FC;\n",
              "    }\n",
              "\n",
              "    [theme=dark] .colab-df-convert:hover {\n",
              "      background-color: #434B5C;\n",
              "      box-shadow: 0px 1px 3px 1px rgba(0, 0, 0, 0.15);\n",
              "      filter: drop-shadow(0px 1px 2px rgba(0, 0, 0, 0.3));\n",
              "      fill: #FFFFFF;\n",
              "    }\n",
              "  </style>\n",
              "\n",
              "    <script>\n",
              "      const buttonEl =\n",
              "        document.querySelector('#df-3bfedde5-f827-458e-a268-e56a5999c768 button.colab-df-convert');\n",
              "      buttonEl.style.display =\n",
              "        google.colab.kernel.accessAllowed ? 'block' : 'none';\n",
              "\n",
              "      async function convertToInteractive(key) {\n",
              "        const element = document.querySelector('#df-3bfedde5-f827-458e-a268-e56a5999c768');\n",
              "        const dataTable =\n",
              "          await google.colab.kernel.invokeFunction('convertToInteractive',\n",
              "                                                    [key], {});\n",
              "        if (!dataTable) return;\n",
              "\n",
              "        const docLinkHtml = 'Like what you see? Visit the ' +\n",
              "          '<a target=\"_blank\" href=https://colab.research.google.com/notebooks/data_table.ipynb>data table notebook</a>'\n",
              "          + ' to learn more about interactive tables.';\n",
              "        element.innerHTML = '';\n",
              "        dataTable['output_type'] = 'display_data';\n",
              "        await google.colab.output.renderOutput(dataTable, element);\n",
              "        const docLink = document.createElement('div');\n",
              "        docLink.innerHTML = docLinkHtml;\n",
              "        element.appendChild(docLink);\n",
              "      }\n",
              "    </script>\n",
              "  </div>\n",
              "\n",
              "\n",
              "<div id=\"df-1747a067-f245-41d0-9ec1-4c83a1b785f9\">\n",
              "  <button class=\"colab-df-quickchart\" onclick=\"quickchart('df-1747a067-f245-41d0-9ec1-4c83a1b785f9')\"\n",
              "            title=\"Suggest charts\"\n",
              "            style=\"display:none;\">\n",
              "\n",
              "<svg xmlns=\"http://www.w3.org/2000/svg\" height=\"24px\"viewBox=\"0 0 24 24\"\n",
              "     width=\"24px\">\n",
              "    <g>\n",
              "        <path d=\"M19 3H5c-1.1 0-2 .9-2 2v14c0 1.1.9 2 2 2h14c1.1 0 2-.9 2-2V5c0-1.1-.9-2-2-2zM9 17H7v-7h2v7zm4 0h-2V7h2v10zm4 0h-2v-4h2v4z\"/>\n",
              "    </g>\n",
              "</svg>\n",
              "  </button>\n",
              "\n",
              "<style>\n",
              "  .colab-df-quickchart {\n",
              "      --bg-color: #E8F0FE;\n",
              "      --fill-color: #1967D2;\n",
              "      --hover-bg-color: #E2EBFA;\n",
              "      --hover-fill-color: #174EA6;\n",
              "      --disabled-fill-color: #AAA;\n",
              "      --disabled-bg-color: #DDD;\n",
              "  }\n",
              "\n",
              "  [theme=dark] .colab-df-quickchart {\n",
              "      --bg-color: #3B4455;\n",
              "      --fill-color: #D2E3FC;\n",
              "      --hover-bg-color: #434B5C;\n",
              "      --hover-fill-color: #FFFFFF;\n",
              "      --disabled-bg-color: #3B4455;\n",
              "      --disabled-fill-color: #666;\n",
              "  }\n",
              "\n",
              "  .colab-df-quickchart {\n",
              "    background-color: var(--bg-color);\n",
              "    border: none;\n",
              "    border-radius: 50%;\n",
              "    cursor: pointer;\n",
              "    display: none;\n",
              "    fill: var(--fill-color);\n",
              "    height: 32px;\n",
              "    padding: 0;\n",
              "    width: 32px;\n",
              "  }\n",
              "\n",
              "  .colab-df-quickchart:hover {\n",
              "    background-color: var(--hover-bg-color);\n",
              "    box-shadow: 0 1px 2px rgba(60, 64, 67, 0.3), 0 1px 3px 1px rgba(60, 64, 67, 0.15);\n",
              "    fill: var(--button-hover-fill-color);\n",
              "  }\n",
              "\n",
              "  .colab-df-quickchart-complete:disabled,\n",
              "  .colab-df-quickchart-complete:disabled:hover {\n",
              "    background-color: var(--disabled-bg-color);\n",
              "    fill: var(--disabled-fill-color);\n",
              "    box-shadow: none;\n",
              "  }\n",
              "\n",
              "  .colab-df-spinner {\n",
              "    border: 2px solid var(--fill-color);\n",
              "    border-color: transparent;\n",
              "    border-bottom-color: var(--fill-color);\n",
              "    animation:\n",
              "      spin 1s steps(1) infinite;\n",
              "  }\n",
              "\n",
              "  @keyframes spin {\n",
              "    0% {\n",
              "      border-color: transparent;\n",
              "      border-bottom-color: var(--fill-color);\n",
              "      border-left-color: var(--fill-color);\n",
              "    }\n",
              "    20% {\n",
              "      border-color: transparent;\n",
              "      border-left-color: var(--fill-color);\n",
              "      border-top-color: var(--fill-color);\n",
              "    }\n",
              "    30% {\n",
              "      border-color: transparent;\n",
              "      border-left-color: var(--fill-color);\n",
              "      border-top-color: var(--fill-color);\n",
              "      border-right-color: var(--fill-color);\n",
              "    }\n",
              "    40% {\n",
              "      border-color: transparent;\n",
              "      border-right-color: var(--fill-color);\n",
              "      border-top-color: var(--fill-color);\n",
              "    }\n",
              "    60% {\n",
              "      border-color: transparent;\n",
              "      border-right-color: var(--fill-color);\n",
              "    }\n",
              "    80% {\n",
              "      border-color: transparent;\n",
              "      border-right-color: var(--fill-color);\n",
              "      border-bottom-color: var(--fill-color);\n",
              "    }\n",
              "    90% {\n",
              "      border-color: transparent;\n",
              "      border-bottom-color: var(--fill-color);\n",
              "    }\n",
              "  }\n",
              "</style>\n",
              "\n",
              "  <script>\n",
              "    async function quickchart(key) {\n",
              "      const quickchartButtonEl =\n",
              "        document.querySelector('#' + key + ' button');\n",
              "      quickchartButtonEl.disabled = true;  // To prevent multiple clicks.\n",
              "      quickchartButtonEl.classList.add('colab-df-spinner');\n",
              "      try {\n",
              "        const charts = await google.colab.kernel.invokeFunction(\n",
              "            'suggestCharts', [key], {});\n",
              "      } catch (error) {\n",
              "        console.error('Error during call to suggestCharts:', error);\n",
              "      }\n",
              "      quickchartButtonEl.classList.remove('colab-df-spinner');\n",
              "      quickchartButtonEl.classList.add('colab-df-quickchart-complete');\n",
              "    }\n",
              "    (() => {\n",
              "      let quickchartButtonEl =\n",
              "        document.querySelector('#df-1747a067-f245-41d0-9ec1-4c83a1b785f9 button');\n",
              "      quickchartButtonEl.style.display =\n",
              "        google.colab.kernel.accessAllowed ? 'block' : 'none';\n",
              "    })();\n",
              "  </script>\n",
              "</div>\n",
              "\n",
              "    </div>\n",
              "  </div>\n"
            ],
            "application/vnd.google.colaboratory.intrinsic+json": {
              "type": "dataframe",
              "variable_name": "df"
            }
          },
          "metadata": {},
          "execution_count": 5
        }
      ]
    },
    {
      "cell_type": "markdown",
      "metadata": {
        "id": "L9eBme2hyMmz"
      },
      "source": [
        "### Visualize the data"
      ]
    },
    {
      "cell_type": "markdown",
      "source": [
        "Important features to forecast temperature are `T (degC)` (temperature), `p (mbar)` (pressure), and `rho (g/m**3)` density of the air.\n",
        "\n",
        "Let's see the variation in these features, and also visualize a small window of these series."
      ],
      "metadata": {
        "id": "pjsNV9gOqh3z"
      }
    },
    {
      "cell_type": "code",
      "source": [
        "# Visualize the data\n",
        "plot_cols = ['T (degC)', 'p (mbar)', 'rho (g/m**3)']\n",
        "plot_features = df[plot_cols]\n",
        "plot_features.index = date_time\n",
        "_ = plot_features.plot(subplots=True)\n",
        "\n",
        "# Lets zoom in to a smaller time-window\n",
        "plot_features = df[plot_cols][:480]\n",
        "plot_features.index = date_time[:480]\n",
        "_ = plot_features.plot(subplots=True)"
      ],
      "metadata": {
        "id": "nNsN-R-fvXmb",
        "colab": {
          "base_uri": "https://localhost:8080/",
          "height": 887
        },
        "outputId": "4b0b5fa7-6c61-42e7-abe5-20ad0d4bf6ba"
      },
      "execution_count": 6,
      "outputs": [
        {
          "output_type": "display_data",
          "data": {
            "text/plain": [
              "<Figure size 640x480 with 3 Axes>"
            ],
            "image/png": "[encoded data removed]"
          },
          "metadata": {}
        },
        {
          "output_type": "display_data",
          "data": {
            "text/plain": [
              "<Figure size 640x480 with 3 Axes>"
            ],
            "image/png": "[encoded data removed]"
          },
          "metadata": {}
        }
      ]
    },
    {
      "cell_type": "markdown",
      "source": [
        "Note: Data is recorded every 10 minutes, 6 data points in 60 minutes, therefore 24 × 6 = 144 data points per day"
      ],
      "metadata": {
        "id": "LkU9JtCHj8-0"
      }
    },
    {
      "cell_type": "code",
      "execution_count": 7,
      "metadata": {
        "id": "L8Ylos_DyMm1",
        "colab": {
          "base_uri": "https://localhost:8080/",
          "height": 452
        },
        "outputId": "7f88d4f8-ab69-4b8a-b862-27a9abfe1fec"
      },
      "outputs": [
        {
          "output_type": "execute_result",
          "data": {
            "text/plain": [
              "[<matplotlib.lines.Line2D at 0x7a34fea9c2b0>]"
            ]
          },
          "metadata": {},
          "execution_count": 7
        },
        {
          "output_type": "display_data",
          "data": {
            "text/plain": [
              "<Figure size 640x480 with 1 Axes>"
            ],
            "image/png": "[encoded data removed]"
          },
          "metadata": {}
        }
      ],
      "source": [
        "# Plotting the temperature timeseries\n",
        "temperature = df['T (degC)'] # extract out the temperature data\n",
        "plt.plot(range(len(temperature)), temperature)"
      ]
    },
    {
      "cell_type": "code",
      "source": [
        "# Convert data to np array\n",
        "raw_data = np.array(df)           # raw_data is a np array\n",
        "print(raw_data.shape)\n",
        "# Q: how many features are there? A: 14"
      ],
      "metadata": {
        "id": "ATLK3fJmwxUu",
        "colab": {
          "base_uri": "https://localhost:8080/"
        },
        "outputId": "beb31687-3c72-4d8d-a8bd-420d2f0651fa"
      },
      "execution_count": 8,
      "outputs": [
        {
          "output_type": "stream",
          "name": "stdout",
          "text": [
            "(420551, 14)\n"
          ]
        }
      ]
    },
    {
      "cell_type": "code",
      "execution_count": 9,
      "metadata": {
        "id": "CHJa-qR4yMm2",
        "colab": {
          "base_uri": "https://localhost:8080/",
          "height": 539
        },
        "outputId": "00362022-e2e4-4754-e009-863fc132813b"
      },
      "outputs": [
        {
          "output_type": "stream",
          "name": "stdout",
          "text": [
            "0   -8.02\n",
            "1   -8.41\n",
            "2   -8.51\n",
            "3   -8.31\n",
            "4   -8.27\n",
            "Name: T (degC), dtype: float64\n"
          ]
        },
        {
          "output_type": "display_data",
          "data": {
            "text/plain": [
              "<Figure size 640x480 with 1 Axes>"
            ],
            "image/png": "[encoded data removed]"
          },
          "metadata": {}
        }
      ],
      "source": [
        "# Plotting the first 10 days of the temperature timeseries\n",
        "plt.plot(range(1440), temperature[:1440]) # 144 data points in one day, 1440 data points in 10 days\n",
        "print(temperature[:5])"
      ]
    },
    {
      "cell_type": "markdown",
      "source": [
        "### Get the split index for train, validation and test samples"
      ],
      "metadata": {
        "id": "d5S4uFHsT7Cn"
      }
    },
    {
      "cell_type": "code",
      "execution_count": 10,
      "metadata": {
        "id": "bM8tMJD4yMm2",
        "colab": {
          "base_uri": "https://localhost:8080/"
        },
        "outputId": "58636772-a326-419e-d9b4-93c372680675"
      },
      "outputs": [
        {
          "output_type": "stream",
          "name": "stdout",
          "text": [
            "num_train_samples: 210275\n",
            "num_val_samples: 105137\n",
            "num_test_samples: 105139\n"
          ]
        }
      ],
      "source": [
        "# Compute the number of samples for each data split\n",
        "num_train_samples = int(0.5 * len(raw_data))     #Q: What is len(raw_data) #A: 420551\n",
        "num_val_samples = int(0.25 * len(raw_data))\n",
        "num_test_samples = len(raw_data) - num_train_samples - num_val_samples      #Q: approx how many test samples? #A: apx 25%\n",
        "\n",
        "print(\"num_train_samples:\", num_train_samples)\n",
        "print(\"num_val_samples:\", num_val_samples)\n",
        "print(\"num_test_samples:\", num_test_samples)"
      ]
    },
    {
      "cell_type": "markdown",
      "metadata": {
        "id": "G1Ywn7j4yMm3"
      },
      "source": [
        "### Pre-processing the data"
      ]
    },
    {
      "cell_type": "markdown",
      "metadata": {
        "id": "WWmYXdJyyMm3"
      },
      "source": [
        "Data Normalization"
      ]
    },
    {
      "cell_type": "code",
      "execution_count": 11,
      "metadata": {
        "id": "L6L1KYMCyMm3"
      },
      "outputs": [],
      "source": [
        "mean = raw_data[:num_train_samples].mean(axis=0)     # Q: axis=0 means? Is mean a vector? #A: temporal axis; mean is a vector of size (14,)\n",
        "std = raw_data[:num_train_samples].std(axis=0)       # Standard Deviation\n",
        "\n",
        "raw_data -= mean\n",
        "raw_data /= std\n",
        "\n",
        "# Q: On what data was the mean and std computed? #A: Train data\n",
        "# Q: On what data is standardization tranformation applied? #A: On all the data"
      ]
    },
    {
      "cell_type": "code",
      "source": [
        "# plot the normalized temperature data\n",
        "print(raw_data[:,1])  # temperature data\n",
        "plt.plot(raw_data[:1440,1])\n",
        "\n",
        "#Q: What is the difference between the below plot and the prev one? #A: Scale, visible difference in y-axis\n",
        "#Q: Does the plot look like it has 0 mean? Yes/No/Why? #A: No. but this not the full data."
      ],
      "metadata": {
        "id": "BvIQxMxcJJFy",
        "colab": {
          "base_uri": "https://localhost:8080/",
          "height": 484
        },
        "outputId": "dcd73c3c-a806-47d9-9377-8e3832b9ddfe"
      },
      "execution_count": 12,
      "outputs": [
        {
          "output_type": "stream",
          "name": "stdout",
          "text": [
            "[-1.92080466 -1.96527448 -1.976677   ... -1.36664229 -1.48864923\n",
            " -1.55592409]\n"
          ]
        },
        {
          "output_type": "execute_result",
          "data": {
            "text/plain": [
              "[<matplotlib.lines.Line2D at 0x7a34feb73460>]"
            ]
          },
          "metadata": {},
          "execution_count": 12
        },
        {
          "output_type": "display_data",
          "data": {
            "text/plain": [
              "<Figure size 640x480 with 1 Axes>"
            ],
            "image/png": "[encoded data removed]"
          },
          "metadata": {}
        }
      ]
    },
    {
      "cell_type": "markdown",
      "source": [
        "The time series data is available from sensors and web but how to get datasets, what is the input and the label?\n",
        "\n",
        "The `timeseries_dataset_from_array` function takes in a sequence of data-points gathered at equal intervals, along with time series parameters such as length of the sequences/windows, spacing between two sequence/windows, etc., to produce batches of sub-timeseries inputs and targets sampled from the main timeseries.\n",
        "\n",
        "\n",
        "To make apt datasets, keras [utils](https://www.tensorflow.org/api_docs/python/tf/keras/utils/timeseries_dataset_from_array) will be used, called\n",
        "\n",
        "\n",
        "```\n",
        "timeseries_dataset_from_array()\n",
        "```\n"
      ],
      "metadata": {
        "id": "vNn0jMXSMVcx"
      }
    },
    {
      "cell_type": "markdown",
      "source": [
        "In the subsequent two code cells we are trying to demonstrate the working of `timeseries_dataset_from_array()` function from keras.\n",
        "\n",
        "Using two examples we will see how time series data can be prepared which can be fed to a RNN model.\n",
        "\n",
        "Later the same concept will be used to prepare the final data."
      ],
      "metadata": {
        "id": "0jZXu3Drrsx_"
      }
    },
    {
      "cell_type": "markdown",
      "source": [
        "### Examples to see how time series data can be prepared to feed the RNN"
      ],
      "metadata": {
        "id": "Y23uTg_WnQwT"
      }
    },
    {
      "cell_type": "markdown",
      "source": [
        "#### Time series data preparation: Example 1"
      ],
      "metadata": {
        "id": "gRbA18tTXU4W"
      }
    },
    {
      "cell_type": "code",
      "execution_count": 13,
      "metadata": {
        "id": "Q8QnH4puyMm4",
        "colab": {
          "base_uri": "https://localhost:8080/"
        },
        "outputId": "fcf81118-046f-4c65-a618-7585e683fc3e"
      },
      "outputs": [
        {
          "output_type": "stream",
          "name": "stdout",
          "text": [
            "Original Timeseries sequence: [ 0  1  2  3  4  5  6  7  8  9 10 11 12 13 14 15 16 17 18 19]\n",
            "\n",
            "data = int_sequence[:-3]=[ 0  1  2  3  4  5  6  7  8  9 10 11 12 13 14 15 16]\n",
            "\n",
            "targets= int_sequence[3:] = [ 3  4  5  6  7  8  9 10 11 12 13 14 15 16 17 18 19]\n",
            "\n",
            "(7, 3)\n",
            "[0, 2, 4] 3\n",
            "[2, 4, 6] 5\n",
            "[4, 6, 8] 7\n",
            "[6, 8, 10] 9\n",
            "[8, 10, 12] 11\n",
            "[10, 12, 14] 13\n",
            "[12, 14, 16] 15\n"
          ]
        }
      ],
      "source": [
        "int_sequence = np.arange(20)\n",
        "print(f\"Original Timeseries sequence: {int_sequence}\\n\")\n",
        "print(f\"data = int_sequence[:-3]={int_sequence[:-3]}\\n\")\n",
        "print(f\"targets= int_sequence[3:] = {int_sequence[3:]}\\n\")\n",
        "\n",
        "# returns sequences and corresponding targets\n",
        "dummy_dataset = keras.utils.timeseries_dataset_from_array(\n",
        "                                      data=int_sequence[:-3],\n",
        "                                      targets=int_sequence[3:],\n",
        "                                      # The next 3 arguments are for you to manipulate the data (input)\n",
        "                                      sequence_length=3,\n",
        "                                      sampling_rate = 2,\n",
        "                                      sequence_stride = 2, # stride applied to both data and targets\n",
        "                                      # batch_size=2,  # see in next cell\n",
        "                                  )\n",
        "\n",
        "\n",
        "for inputs, targets in dummy_dataset:\n",
        "    # print(inputs, targets)\n",
        "    print(inputs.shape)\n",
        "    for i in range(inputs.shape[0]): # range(batch_size)\n",
        "        print([int(x) for x in inputs[i]], int(targets[i]))"
      ]
    },
    {
      "cell_type": "markdown",
      "source": [
        "For intuition, read [here](https://mobiarch.wordpress.com/2020/11/13/preparing-time-series-data-for-rnn-in-tensorflow/)"
      ],
      "metadata": {
        "id": "036xSslSKvjM"
      }
    },
    {
      "cell_type": "markdown",
      "source": [
        "Inputs and targets look like this:\n",
        "\n",
        "[0, 2, 4] : 3\n",
        "\n",
        "[1, 3, 5] : 4\n",
        "\n",
        "[2, 4, 6] : 5\n",
        "\n",
        "...\n",
        "\n",
        "..."
      ],
      "metadata": {
        "id": "Azyfe4xiS317"
      }
    },
    {
      "cell_type": "markdown",
      "source": [
        "#### Time series data preparation: Example 2"
      ],
      "metadata": {
        "id": "CCGQpPCpXeWv"
      }
    },
    {
      "cell_type": "code",
      "source": [
        "int_sequence = np.arange(20)\n",
        "print(f\"Original Timeseries sequence: {int_sequence}\")\n",
        "print(f\"data = int_sequence[:-3]={int_sequence[:-3]}\")\n",
        "print(f\"targets= int_sequence[3:] = {int_sequence[3:]}\")\n",
        "\n",
        "dummy_dataset = keras.utils.timeseries_dataset_from_array(\n",
        "                                      data=int_sequence[:-3],       #Q: What is the effect of the 3 #A: maintains delay of 3 between last 'data' entry and corresponding target\n",
        "                                      targets=int_sequence[3:],\n",
        "                                      # The next 3 arguments are for you to manipulate the data (input)\n",
        "                                      sequence_length=5,\n",
        "                                      # sampling_rate = 2,\n",
        "                                      # sequence_stride = 3,\n",
        "                                      # batch_size=2,\n",
        "                                      # shuffle = True\n",
        "                                  )\n",
        "\n",
        "\n",
        "for inputs, targets in dummy_dataset:\n",
        "    print(inputs)\n",
        "    print(targets)\n",
        "    print(f\"\\n inputs.shape = {inputs.shape }\")\n",
        "    for i in range(inputs.shape[0]):\n",
        "        print([int(x) for x in inputs[i]], int(targets[i]))\n"
      ],
      "metadata": {
        "id": "KyACX_uxvCp0",
        "colab": {
          "base_uri": "https://localhost:8080/"
        },
        "outputId": "0c48554d-e759-423c-bb11-74fae2f8d238"
      },
      "execution_count": 14,
      "outputs": [
        {
          "output_type": "stream",
          "name": "stdout",
          "text": [
            "Original Timeseries sequence: [ 0  1  2  3  4  5  6  7  8  9 10 11 12 13 14 15 16 17 18 19]\n",
            "data = int_sequence[:-3]=[ 0  1  2  3  4  5  6  7  8  9 10 11 12 13 14 15 16]\n",
            "targets= int_sequence[3:] = [ 3  4  5  6  7  8  9 10 11 12 13 14 15 16 17 18 19]\n",
            "tf.Tensor(\n",
            "[[ 0  1  2  3  4]\n",
            " [ 1  2  3  4  5]\n",
            " [ 2  3  4  5  6]\n",
            " [ 3  4  5  6  7]\n",
            " [ 4  5  6  7  8]\n",
            " [ 5  6  7  8  9]\n",
            " [ 6  7  8  9 10]\n",
            " [ 7  8  9 10 11]\n",
            " [ 8  9 10 11 12]\n",
            " [ 9 10 11 12 13]\n",
            " [10 11 12 13 14]\n",
            " [11 12 13 14 15]\n",
            " [12 13 14 15 16]], shape=(13, 5), dtype=int64)\n",
            "tf.Tensor([ 3  4  5  6  7  8  9 10 11 12 13 14 15], shape=(13,), dtype=int64)\n",
            "\n",
            " inputs.shape = (13, 5)\n",
            "[0, 1, 2, 3, 4] 3\n",
            "[1, 2, 3, 4, 5] 4\n",
            "[2, 3, 4, 5, 6] 5\n",
            "[3, 4, 5, 6, 7] 6\n",
            "[4, 5, 6, 7, 8] 7\n",
            "[5, 6, 7, 8, 9] 8\n",
            "[6, 7, 8, 9, 10] 9\n",
            "[7, 8, 9, 10, 11] 10\n",
            "[8, 9, 10, 11, 12] 11\n",
            "[9, 10, 11, 12, 13] 12\n",
            "[10, 11, 12, 13, 14] 13\n",
            "[11, 12, 13, 14, 15] 14\n",
            "[12, 13, 14, 15, 16] 15\n"
          ]
        }
      ]
    },
    {
      "cell_type": "markdown",
      "metadata": {
        "id": "P3cAm1F_yMm4"
      },
      "source": [
        "This enhances the working and understanding of the utility function. The same can be used to prepare the final dataset."
      ]
    },
    {
      "cell_type": "markdown",
      "source": [
        "### Final data preparation: using train, test and validation indexes"
      ],
      "metadata": {
        "id": "Occszy2WoEs-"
      }
    },
    {
      "cell_type": "code",
      "execution_count": 15,
      "metadata": {
        "id": "DzFOBLQ3yMm4"
      },
      "outputs": [],
      "source": [
        "# Instantiating datasets for training, validation, and testing\n",
        "\n",
        "# Observations will be sampled at one data point per hour: we will only keep one data point out of 6.\n",
        "sampling_rate = 6  # every 6th sample of the original sequence is a sample after an hour\n",
        "\n",
        "\n",
        "sequence_length = 120 #Q: How many days worth data in a sequence? #A: 5 Days\n",
        "\n",
        "# The target for a sequence will be the temperature 24 hours after the end of the sequenc\n",
        "delay = sampling_rate * (sequence_length + 24 - 1)\n",
        "\n",
        "batch_size = 256\n",
        "\n",
        "train_dataset = keras.utils.timeseries_dataset_from_array(\n",
        "    raw_data[:-delay],          # Q: What is this argument? #A: data\n",
        "    targets=temperature[delay:],\n",
        "    sampling_rate=sampling_rate,\n",
        "    sequence_length=sequence_length,\n",
        "    shuffle=True,\n",
        "    batch_size=batch_size,\n",
        "    start_index=0,\n",
        "    end_index=num_train_samples)\n",
        "\n",
        "val_dataset = keras.utils.timeseries_dataset_from_array(\n",
        "    raw_data[:-delay],\n",
        "    targets=temperature[delay:],\n",
        "    sampling_rate=sampling_rate,\n",
        "    sequence_length=sequence_length,\n",
        "    shuffle=True,\n",
        "    batch_size=batch_size,\n",
        "    start_index=num_train_samples,\n",
        "    end_index=num_train_samples + num_val_samples)\n",
        "\n",
        "test_dataset = keras.utils.timeseries_dataset_from_array(\n",
        "    raw_data[:-delay],\n",
        "    targets=temperature[delay:],\n",
        "    sampling_rate=sampling_rate,\n",
        "    sequence_length=sequence_length,\n",
        "    shuffle=True,\n",
        "    batch_size=batch_size,\n",
        "    start_index=num_train_samples + num_val_samples)"
      ]
    },
    {
      "cell_type": "markdown",
      "metadata": {
        "id": "xg6bimMcyMm5"
      },
      "source": [
        "Q: Do we have to normalise the test data or is it already done?"
      ]
    },
    {
      "cell_type": "code",
      "execution_count": 16,
      "metadata": {
        "id": "2y9Kfe86yMm5",
        "colab": {
          "base_uri": "https://localhost:8080/"
        },
        "outputId": "e82e29ee-197f-4a99-cc2f-ff9039a03481"
      },
      "outputs": [
        {
          "output_type": "stream",
          "name": "stdout",
          "text": [
            "samples shape: (256, 120, 14)\n",
            "targets shape: (256,)\n"
          ]
        }
      ],
      "source": [
        "# Inspecting the output of one of our datasets\n",
        "for samples, targets in train_dataset:\n",
        "    print(\"samples shape:\", samples.shape)\n",
        "    print(\"targets shape:\", targets.shape)\n",
        "    break"
      ]
    },
    {
      "cell_type": "markdown",
      "metadata": {
        "id": "aI8c8belyMm5"
      },
      "source": [
        "### Computing the non-machine-learning baseline"
      ]
    },
    {
      "cell_type": "markdown",
      "metadata": {
        "id": "zBf9opK-yMm5"
      },
      "source": [
        "Computing the common-sense baseline MAE\n",
        "\n",
        "Prediction based on the assumption that the temperature changes periodically.\n",
        "\n",
        "Hence, the temperature prediction of 24 hrs later should be equal to the temperature right now"
      ]
    },
    {
      "cell_type": "code",
      "execution_count": null,
      "metadata": {
        "id": "Ji5kfSJAyMm6",
        "colab": {
          "base_uri": "https://localhost:8080/"
        },
        "outputId": "654e27a7-f200-4594-dde8-c179acaf5710"
      },
      "outputs": [
        {
          "output_type": "stream",
          "name": "stdout",
          "text": [
            "Validation MAE: 2.44\n"
          ]
        }
      ],
      "source": [
        "def evaluate_naive_method(dataset):\n",
        "    total_abs_err = 0.\n",
        "    samples_seen = 0\n",
        "    for samples, targets in dataset:\n",
        "        #Q: What is the shape of samples? What is idx 1? # A: (256, 120, 14), ; idx 1 means temperature. See dataframe.\n",
        "        preds = samples[:, -1, 1] * std[1] + mean[1]  #Q: Why multiply by std and add with mean?\n",
        "        #Q: What are the next 2 lines doing?\n",
        "        total_abs_err += np.sum(np.abs(preds - targets))\n",
        "        samples_seen += samples.shape[0]\n",
        "    return total_abs_err / samples_seen\n",
        "\n",
        "print(f\"Validation MAE: {evaluate_naive_method(val_dataset):.2f}\")\n",
        "print(f\"Test MAE: {evaluate_naive_method(test_dataset):.2f}\")"
      ]
    },
    {
      "cell_type": "markdown",
      "source": [
        "The Test MAE is 2.62. It means our naive model is expected to give a prediction which is off by 2.62 deg on average."
      ],
      "metadata": {
        "id": "c7DpIPdsWFSW"
      }
    },
    {
      "cell_type": "markdown",
      "metadata": {
        "id": "T3EPedffyMm6"
      },
      "source": [
        "### Train a Dense Neural Network"
      ]
    },
    {
      "cell_type": "code",
      "execution_count": null,
      "metadata": {
        "id": "Iyr1TENLyMm6"
      },
      "outputs": [],
      "source": [
        "# **Training and evaluating a densely connected model**\n",
        "\n",
        "# define input layer: relate to how you would pass image data to a dense layer\n",
        "# Remember: Shape of an input batch: (256, 120, 14)\n",
        "# Architecture\n",
        "inputs = keras.Input(shape=(sequence_length, raw_data.shape[-1])) #Q: What is raw_data.shape[-1]? #A: Last index, i.e., no. of features = 14\n",
        "\n",
        "x = layers.Flatten()(inputs) #Q: Why flatten? # A: Input is in the form of matrix\n",
        "x = layers.Dense(16, activation=\"relu\")(x)\n",
        "outputs = layers.Dense(1)(x)\n",
        "model = keras.Model(inputs, outputs)"
      ]
    },
    {
      "cell_type": "markdown",
      "source": [
        "Define the callback function and compile the model"
      ],
      "metadata": {
        "id": "I9OSI0UrYDT9"
      }
    },
    {
      "cell_type": "code",
      "source": [
        "callbacks = [\n",
        "    keras.callbacks.ModelCheckpoint(\"jena_dense.keras\",\n",
        "                                    save_best_only=True)\n",
        "]\n",
        "model.compile(optimizer=\"rmsprop\", loss=\"mse\", metrics=[\"mae\"])"
      ],
      "metadata": {
        "id": "E5evVrHrX1Gs"
      },
      "execution_count": null,
      "outputs": []
    },
    {
      "cell_type": "markdown",
      "source": [
        "Train and save the model"
      ],
      "metadata": {
        "id": "TgZlZoEFYNH9"
      }
    },
    {
      "cell_type": "code",
      "source": [
        "history = model.fit(train_dataset,\n",
        "                    epochs=10,  # Initially keep epochs = 3\n",
        "                    validation_data=val_dataset,\n",
        "                    callbacks=callbacks)"
      ],
      "metadata": {
        "id": "t4ti4RdjX7No"
      },
      "execution_count": null,
      "outputs": []
    },
    {
      "cell_type": "markdown",
      "source": [
        "Load the saved model and make a prediction"
      ],
      "metadata": {
        "id": "lVbEyLPMYRYS"
      }
    },
    {
      "cell_type": "code",
      "source": [
        "model = keras.models.load_model(\"jena_dense.keras\")\n",
        "print(f\"Test MAE: {model.evaluate(test_dataset)[1]:.2f}\")"
      ],
      "metadata": {
        "id": "gOCzL17dYQk3"
      },
      "execution_count": null,
      "outputs": []
    },
    {
      "cell_type": "markdown",
      "metadata": {
        "id": "x7tV9givyMm6"
      },
      "source": [
        "Plot the results"
      ]
    },
    {
      "cell_type": "code",
      "execution_count": null,
      "metadata": {
        "id": "4pXCzO6qyMm7"
      },
      "outputs": [],
      "source": [
        "loss = history.history[\"mae\"]\n",
        "val_loss = history.history[\"val_mae\"]\n",
        "epochs = range(1, len(loss) + 1)\n",
        "plt.figure()\n",
        "plt.plot(epochs, loss, \"bo\", label=\"Training MAE\")\n",
        "plt.plot(epochs, val_loss, \"b\", label=\"Validation MAE\")\n",
        "plt.title(\"Training and validation MAE\")\n",
        "plt.legend()\n",
        "plt.show()"
      ]
    },
    {
      "cell_type": "markdown",
      "source": [
        "The dense network has not done very well. Achieves a validation loss of 2.6.\n",
        "\n",
        "Why?\n",
        "\n",
        "\n",
        "*   The hypothesis space is inappropriate\n",
        "      - perhaps too large\n",
        "      - looking for a window-wise global pattern\n",
        "*   An example of the poweful nature of\n",
        "      - good feature engineering\n",
        "      - domain knowledge\n",
        "\n"
      ],
      "metadata": {
        "id": "i_HfzVtzauwC"
      }
    },
    {
      "cell_type": "markdown",
      "metadata": {
        "id": "HOCZl2D1yMm7"
      },
      "source": [
        "## 1D Convolutional model"
      ]
    },
    {
      "cell_type": "markdown",
      "source": [
        "We don't have an image and we do not necessarily need one.\n",
        "\n",
        "We will use 1D convolutions.\n",
        "  - try to learn local patterns in the signal/sequence"
      ],
      "metadata": {
        "id": "97MFAJSveLyK"
      }
    },
    {
      "cell_type": "markdown",
      "source": [
        "<img src=\"https://encrypted-tbn0.gstatic.com/images?q=tbn:ANd9GcT5VZ8P0REZ7GEUKFsTT_d5SLiGjOpoBk46jSn0kPm1b7yqtTNwXNRi0G84dv_1b1oP3Oo&usqp=CAU\" width=450px>"
      ],
      "metadata": {
        "id": "VEBNuDFrfO94"
      }
    },
    {
      "cell_type": "markdown",
      "source": [
        "Find a 1D Convolutional animation [here](https://www.google.com/url?sa=i&url=https%3A%2F%2Fe2eml.school%2Fconvolution_one_d.html&psig=AOvVaw2bFkQnxEG3jAUIpT8tXlYs&ust=1654344663003000&source=images&cd=vfe&ved=0CAwQjRxqFwoTCJDegqmgkfgCFQAAAAAdAAAAABAD)\n"
      ],
      "metadata": {
        "id": "m6BtE_EKeqtc"
      }
    },
    {
      "cell_type": "code",
      "execution_count": null,
      "metadata": {
        "id": "NFynsXSYyMm7"
      },
      "outputs": [],
      "source": [
        "# Model Architecture\n",
        "inputs = keras.Input(shape=(sequence_length, raw_data.shape[-1]))\n",
        "\n",
        "x = layers.Conv1D(8, 24, activation=\"relu\", input_shape=(120,14))(inputs)\n",
        "x = layers.MaxPooling1D(2)(x)\n",
        "x = layers.Conv1D(8, 12, activation=\"relu\")(x)\n",
        "x = layers.MaxPooling1D(2)(x)\n",
        "x = layers.Conv1D(8, 6, activation=\"relu\")(x)\n",
        "x = layers.GlobalAveragePooling1D()(x)\n",
        "outputs = layers.Dense(1)(x)\n",
        "model = keras.Model(inputs, outputs)\n",
        "callbacks = [\n",
        "    keras.callbacks.ModelCheckpoint(\"jena_conv.keras\",\n",
        "                                    save_best_only=True)\n",
        "]\n",
        "model.compile(optimizer=\"rmsprop\", loss=\"mse\", metrics=[\"mae\"])\n",
        "\n",
        "plot_model(model, show_shapes=True)\n"
      ]
    },
    {
      "cell_type": "code",
      "source": [
        "# Train and save the best model\n",
        "history = model.fit(train_dataset,\n",
        "                    epochs=10,   # Initiallly keep epochs = 2\n",
        "                    validation_data=val_dataset,\n",
        "                    callbacks=callbacks)\n",
        "\n",
        "model = keras.models.load_model(\"jena_conv.keras\") # Load the saved model\n",
        "print(f\"Test MAE: {model.evaluate(test_dataset)[1]:.2f}\") # Make a prediction"
      ],
      "metadata": {
        "id": "NxNYXtYDiFLZ"
      },
      "execution_count": null,
      "outputs": []
    },
    {
      "cell_type": "markdown",
      "source": [
        "**Built-in RNN layers:**\n",
        "\n",
        "There are three built-in RNN layers in Keras:\n",
        "\n",
        "* **keras.layers.SimpleRNN**, a fully-connected RNN where the output from previous timestep is to be fed to next timestep.\n",
        "\n",
        "\n",
        "* **keras.layers.GRU**, first proposed in Cho et al., 2014.\n",
        "\n",
        "* **keras.layers.LSTM**, first proposed in Hochreiter & Schmidhuber, 1997."
      ],
      "metadata": {
        "id": "Zfa2WsKJkshz"
      }
    },
    {
      "cell_type": "markdown",
      "metadata": {
        "id": "LFyV0NPPyMm8"
      },
      "source": [
        "## Understanding Recurrent Neural Networks"
      ]
    },
    {
      "cell_type": "markdown",
      "source": [
        "Sequence Learning problems:\n",
        "  \n",
        "\n",
        "\n",
        "*   Inputs are no longer independent\n",
        "*   Input sizes not fixed. Ex- Length of sentences\n",
        "\n",
        "\n",
        "So an RNN should take care of:\n",
        "\n",
        "*   Dependence between inputs\n",
        "*   Variable no. of inputs\n",
        "*   Function executed at each time must be the same\n",
        "\n"
      ],
      "metadata": {
        "id": "S3Qgd4Zetlfn"
      }
    },
    {
      "cell_type": "markdown",
      "metadata": {
        "id": "bkdEebV3yMm8"
      },
      "source": [
        "**NumPy implementation of a simple RNN**"
      ]
    },
    {
      "cell_type": "markdown",
      "source": [
        "<img src=\"https://drive.google.com/uc?export=view&id=1LYt9XbBtWCDQ7lIW1jTAPvB9PJh88dtd\" width=500px>"
      ],
      "metadata": {
        "id": "NDhkcUYjcZda"
      }
    },
    {
      "cell_type": "markdown",
      "source": [
        "<img src=\"https://drive.google.com/uc?export=view&id=1u68eJS1dhySV9cqqMN1ZS6PsA7Sexlpt\" width=300px>\n",
        "\n",
        "<br>\n",
        "<img src=\"https://drive.google.com/uc?export=view&id=1GV_Z-KcwXq8x0WwLOh_rVubH-okKZnXn\" width=250px>\n",
        "\n"
      ],
      "metadata": {
        "id": "dzFRIl9ed5dk"
      }
    },
    {
      "cell_type": "code",
      "execution_count": null,
      "metadata": {
        "id": "WED33NeCyMm8"
      },
      "outputs": [],
      "source": [
        "timesteps = 100   #:number of timesteps in the input sequence\n",
        "input_features = 32\n",
        "output_features = 64\n",
        "inputs = np.random.random((timesteps, input_features))\n",
        "state_t = np.zeros((output_features,))\n",
        "U = np.random.random((output_features, input_features))\n",
        "W = np.random.random((output_features, output_features))\n",
        "b = np.random.random((output_features,))\n",
        "successive_outputs = []\n",
        "for input_t in inputs:\n",
        "    output_t = np.tanh(np.dot(U, input_t) + np.dot(W, state_t) + b)\n",
        "    successive_outputs.append(output_t)\n",
        "    state_t = output_t\n",
        "final_output_sequence = np.stack(successive_outputs, axis=0) # Q: seq/vec-to-seq/vec #A: seq-to-seq due to stack"
      ]
    },
    {
      "cell_type": "markdown",
      "source": [
        "Notice the sequential nature of computation. We will discuss this later.\n"
      ],
      "metadata": {
        "id": "sKVy-LHk2TT3"
      }
    },
    {
      "cell_type": "markdown",
      "metadata": {
        "id": "7WvRxYkDyMm8"
      },
      "source": [
        "### A recurrent layer in Keras"
      ]
    },
    {
      "cell_type": "markdown",
      "metadata": {
        "id": "76NYlMdZyMm8"
      },
      "source": [
        "**An RNN layer that can process sequences of any length**"
      ]
    },
    {
      "cell_type": "code",
      "execution_count": null,
      "metadata": {
        "id": "9_Vd124zyMm9"
      },
      "outputs": [],
      "source": [
        "num_features = 14\n",
        "inputs = keras.Input(shape=(None, num_features))\n",
        "outputs = layers.SimpleRNN(16)(inputs)\n",
        "model = keras.Model(inputs, outputs)\n",
        "print(outputs.shape)\n",
        "model.summary()\n",
        "plot_model(model, show_shapes=True)"
      ]
    },
    {
      "cell_type": "code",
      "source": [
        "16*14 + 16*16 + 16"
      ],
      "metadata": {
        "id": "sUcd2DxO5_zq"
      },
      "execution_count": null,
      "outputs": []
    },
    {
      "cell_type": "markdown",
      "metadata": {
        "id": "1nD9bW6LyMm9"
      },
      "source": [
        "**An RNN layer that returns only its last output step**"
      ]
    },
    {
      "cell_type": "code",
      "execution_count": null,
      "metadata": {
        "id": "Hp9pygAsyMm9"
      },
      "outputs": [],
      "source": [
        "num_features = 14\n",
        "steps = 120\n",
        "inputs = keras.Input(shape=(steps, num_features))\n",
        "outputs = layers.SimpleRNN(16, return_sequences=False)(inputs) # return_seq = False\n",
        "model = keras.Model(inputs, outputs)\n",
        "print(outputs.shape) # see output\n",
        "model.summary()\n",
        "plot_model(model, show_shapes=True)"
      ]
    },
    {
      "cell_type": "markdown",
      "source": [
        "**An LSTM layer**"
      ],
      "metadata": {
        "id": "ipkYI64BheI6"
      }
    },
    {
      "cell_type": "code",
      "source": [
        "num_features = 14\n",
        "steps = 120\n",
        "inputs = keras.Input(shape=(steps, num_features))\n",
        "outputs = layers.LSTM(16, return_sequences=False)(inputs) # return_seq = False\n",
        "model = keras.Model(inputs, outputs)\n",
        "print(outputs.shape) # see output\n",
        "model.summary()\n",
        "plot_model(model, show_shapes=True)"
      ],
      "metadata": {
        "id": "8Kmr_sOhhOsu"
      },
      "execution_count": null,
      "outputs": []
    },
    {
      "cell_type": "markdown",
      "metadata": {
        "id": "TjP0IwLdyMm9"
      },
      "source": [
        "**An RNN layer that returns its full output sequence**"
      ]
    },
    {
      "cell_type": "code",
      "execution_count": null,
      "metadata": {
        "id": "KQYWixUiyMm9"
      },
      "outputs": [],
      "source": [
        "num_features = 14\n",
        "steps = 120\n",
        "inputs = keras.Input(shape=(steps, num_features))\n",
        "outputs = layers.SimpleRNN(16, return_sequences=True)(inputs)\n",
        "print(outputs.shape)\n",
        "model = keras.Model(inputs, outputs)\n",
        "model.summary()\n",
        "plot_model(model, show_shapes=True)"
      ]
    },
    {
      "cell_type": "markdown",
      "source": [
        "Training a simple LSTM architecture"
      ],
      "metadata": {
        "id": "fyNg_FxwhkXv"
      }
    },
    {
      "cell_type": "code",
      "execution_count": null,
      "metadata": {
        "id": "s1SmqXdGyMm8"
      },
      "outputs": [],
      "source": [
        "# Model Architecture\n",
        "inputs = keras.Input(shape=(sequence_length, raw_data.shape[-1]))\n",
        "x = layers.LSTM(16)(inputs)\n",
        "outputs = layers.Dense(1)(x)\n",
        "model = keras.Model(inputs, outputs)"
      ]
    },
    {
      "cell_type": "markdown",
      "source": [
        "Define the callback function and compile the model"
      ],
      "metadata": {
        "id": "L7QiFXlThu4E"
      }
    },
    {
      "cell_type": "code",
      "source": [
        "callbacks = [\n",
        "    keras.callbacks.ModelCheckpoint(\"jena_lstm.keras\",\n",
        "                                    save_best_only=True)\n",
        "]\n",
        "model.compile(optimizer=\"rmsprop\", loss=\"mse\", metrics=[\"mae\"])"
      ],
      "metadata": {
        "id": "3OG4pzYhhuTV"
      },
      "execution_count": null,
      "outputs": []
    },
    {
      "cell_type": "markdown",
      "source": [
        "Train and save the best model"
      ],
      "metadata": {
        "id": "BBSeLL9ch1wd"
      }
    },
    {
      "cell_type": "code",
      "source": [
        "history = model.fit(train_dataset,\n",
        "                    epochs=10,             # Initially keep epochs=3\n",
        "                    validation_data=val_dataset,\n",
        "                    callbacks=callbacks)"
      ],
      "metadata": {
        "id": "F2Uk6_v6h0f-"
      },
      "execution_count": null,
      "outputs": []
    },
    {
      "cell_type": "markdown",
      "source": [
        "Load the saved model and make a prediction"
      ],
      "metadata": {
        "id": "uRhO_FRCh91W"
      }
    },
    {
      "cell_type": "code",
      "source": [
        "model = keras.models.load_model(\"jena_lstm.keras\")\n",
        "print(f\"Test MAE: {model.evaluate(test_dataset)[1]:.2f}\")"
      ],
      "metadata": {
        "id": "Seb_mC0Jh9HG"
      },
      "execution_count": null,
      "outputs": []
    },
    {
      "cell_type": "markdown",
      "source": [
        "The test MAE is 2.57\n",
        "\n",
        "\n",
        "*   Slightly better than it's Dense counterpart!\n",
        "\n",
        "*   Easy to use. Just a line of code.\n",
        "\n",
        "*   We can do much better. But we will not spend much time on training RNN based architecture. Instead we will invest that time on Transformers.\n",
        "\n",
        "\n",
        "\n",
        "\n"
      ],
      "metadata": {
        "id": "-3Rcz2U9k-KL"
      }
    },
    {
      "cell_type": "markdown",
      "metadata": {
        "id": "Q1RoG03IyMm9"
      },
      "source": [
        "**Stacking RNN layers**"
      ]
    },
    {
      "cell_type": "markdown",
      "metadata": {
        "id": "Dfy7xZNByMm-"
      },
      "source": [
        "<img src=\"https://drive.google.com/uc?export=view&id=1bPs5kUdqMvpXTOeZwldX1VE_GFx0W8Vt\" width=550px>"
      ]
    },
    {
      "cell_type": "code",
      "execution_count": null,
      "metadata": {
        "id": "kc6_DZjwyMm9"
      },
      "outputs": [],
      "source": [
        "# Architecture\n",
        "inputs = keras.Input(shape=(steps, num_features))\n",
        "x = layers.SimpleRNN(16, return_sequences=True)(inputs) # Q: can return_seq be False here? # A: NO. It will throw error.\n",
        "x = layers.SimpleRNN(16, return_sequences=True)(x)\n",
        "outputs = layers.SimpleRNN(16)(x)\n",
        "model = keras.Model(inputs, outputs)\n",
        "print(outputs.shape)\n",
        "model.summary()"
      ]
    },
    {
      "cell_type": "code",
      "source": [
        "16*16 + 16*16 + 16"
      ],
      "metadata": {
        "id": "GgSJhJ7C5t7u"
      },
      "execution_count": null,
      "outputs": []
    },
    {
      "cell_type": "markdown",
      "metadata": {
        "id": "9k0Y7mLyyMm-"
      },
      "source": [
        "## Advanced use of recurrent neural networks\n",
        "\n",
        "\n",
        "\n",
        "*   Recurrent dropout\n",
        "*   Stacking recurrent layers\n",
        "*   Bi-directional RNNs\n",
        "\n"
      ]
    },
    {
      "cell_type": "markdown",
      "metadata": {
        "id": "bLqYaOXoyMm-"
      },
      "source": [
        "### Using recurrent dropout to fight overfitting"
      ]
    },
    {
      "cell_type": "markdown",
      "metadata": {
        "id": "PJ4iPWrwyMm-"
      },
      "source": [
        "Key Idea: The dropout pattern should remain the same across time.\n"
      ]
    },
    {
      "cell_type": "code",
      "source": [
        "# Training and evaluating a dropout-regularized LSTM\n",
        "inputs = keras.Input(shape=(sequence_length, raw_data.shape[-1]))\n",
        "x = layers.LSTM(32, recurrent_dropout=0.25)(inputs)\n",
        "x = layers.Dropout(0.5)(x)\n",
        "outputs = layers.Dense(1)(x)\n",
        "model = keras.Model(inputs, outputs)\n",
        "\n",
        "callbacks = [\n",
        "    keras.callbacks.ModelCheckpoint(\"jena_lstm_dropout.keras\",\n",
        "                                    save_best_only=True)\n",
        "]\n",
        "model.compile(optimizer=\"rmsprop\", loss=\"mse\", metrics=[\"mae\"])\n",
        "history = model.fit(train_dataset,\n",
        "                    epochs=50,\n",
        "                    validation_data=val_dataset,\n",
        "                    callbacks=callbacks)"
      ],
      "metadata": {
        "id": "Oz2mBSoiHyil"
      },
      "execution_count": null,
      "outputs": []
    },
    {
      "cell_type": "markdown",
      "source": [
        "How is the loss defined?\n",
        "\n",
        "Especially for a seq-to-seq RNN model?"
      ],
      "metadata": {
        "id": "1ruDVvRSeoyy"
      }
    },
    {
      "cell_type": "markdown",
      "source": [
        "<img src=\"https://drive.google.com/uc?export=view&id=1LYt9XbBtWCDQ7lIW1jTAPvB9PJh88dtd\" width=500px>"
      ],
      "metadata": {
        "id": "IUdsY02zeVog"
      }
    },
    {
      "cell_type": "markdown",
      "metadata": {
        "id": "q2VN8868yMm-"
      },
      "source": [
        "### Stacking recurrent layers"
      ]
    },
    {
      "cell_type": "markdown",
      "source": [
        "We've already seen this. But repeating an example to show GRU."
      ],
      "metadata": {
        "id": "b7UbTe8tm-Ax"
      }
    },
    {
      "cell_type": "code",
      "execution_count": null,
      "metadata": {
        "id": "y-wHS_rGyMm-"
      },
      "outputs": [],
      "source": [
        "# Training and evaluating a dropout-regularized, stacked GRU model\n",
        "inputs = keras.Input(shape=(sequence_length, raw_data.shape[-1]))\n",
        "x = layers.GRU(32, recurrent_dropout=0.5, return_sequences=True)(inputs) #Q: why ret_seq =True? #A: Stacked GRUs\n",
        "x = layers.GRU(32, recurrent_dropout=0.5)(x)\n",
        "x = layers.Dropout(0.5)(x)\n",
        "outputs = layers.Dense(1)(x)\n",
        "model = keras.Model(inputs, outputs)\n",
        "\n",
        "callbacks = [\n",
        "    keras.callbacks.ModelCheckpoint(\"jena_stacked_gru_dropout.keras\",\n",
        "                                    save_best_only=True)\n",
        "]\n",
        "model.compile(optimizer=\"rmsprop\", loss=\"mse\", metrics=[\"mae\"])\n",
        "# history = model.fit(train_dataset,\n",
        "#                     epochs=50,\n",
        "#                     validation_data=val_dataset,\n",
        "#                     callbacks=callbacks)\n",
        "# model = keras.models.load_model(\"jena_stacked_gru_dropout.keras\")\n",
        "# print(f\"Test MAE: {model.evaluate(test_dataset)[1]:.2f}\")"
      ]
    },
    {
      "cell_type": "markdown",
      "metadata": {
        "id": "ij1zhYvzyMm_"
      },
      "source": [
        "### Using Bi-directional RNNs"
      ]
    },
    {
      "cell_type": "markdown",
      "source": [
        "![picture](https://miro.medium.com/max/766/0*ZsTT3zzTNGF-6OsR.jpg)"
      ],
      "metadata": {
        "id": "3c2N5dnPzTxM"
      }
    },
    {
      "cell_type": "markdown",
      "metadata": {
        "id": "V-a1ryl0yMm_"
      },
      "source": [
        "Key Idea: Learn temporal patterns in both directions\n",
        "\n",
        "Found to work well with text data."
      ]
    },
    {
      "cell_type": "code",
      "execution_count": null,
      "metadata": {
        "id": "e8VwQkjByMm_"
      },
      "outputs": [],
      "source": [
        "# Training and evaluating a bidirectional LSTM\n",
        "inputs = keras.Input(shape=(sequence_length, raw_data.shape[-1]))\n",
        "x = layers.Bidirectional(layers.LSTM(16))(inputs)\n",
        "outputs = layers.Dense(1)(x)\n",
        "model = keras.Model(inputs, outputs)\n",
        "\n",
        "model.compile(optimizer=\"rmsprop\", loss=\"mse\", metrics=[\"mae\"])\n",
        "# history = model.fit(train_dataset,\n",
        "#                     epochs=10,\n",
        "#                     validation_data=val_dataset)\n",
        "model = keras.Model(inputs, outputs)\n",
        "print(outputs.shape)\n",
        "model.summary()"
      ]
    },
    {
      "cell_type": "markdown",
      "source": [
        "Compare it with a single LSTM layer"
      ],
      "metadata": {
        "id": "Kmo0sjg0sC3b"
      }
    },
    {
      "cell_type": "code",
      "source": [
        "# Training and evaluating a bidirectional LSTM\n",
        "inputs = keras.Input(shape=(sequence_length, raw_data.shape[-1]))\n",
        "# x = layers.Bidirectional(layers.LSTM(16))(inputs)\n",
        "x = layers.LSTM(16)(inputs)\n",
        "outputs = layers.Dense(1)(x)\n",
        "model = keras.Model(inputs, outputs)\n",
        "\n",
        "model.compile(optimizer=\"rmsprop\", loss=\"mse\", metrics=[\"mae\"])\n",
        "# history = model.fit(train_dataset,\n",
        "#                     epochs=10,\n",
        "#                     validation_data=val_dataset)\n",
        "model = keras.Model(inputs, outputs)\n",
        "print(outputs.shape)\n",
        "model.summary()"
      ],
      "metadata": {
        "id": "NT-wOih-r_RM"
      },
      "execution_count": null,
      "outputs": []
    },
    {
      "cell_type": "markdown",
      "source": [
        "Note on runtime performance of RNNs:\n",
        "\n",
        "\n",
        "\n",
        "\n",
        "*   Small RNNs run faster on CPU\n",
        "\n",
        "*   Large RNNs can benefit from GPU\n",
        "\n",
        "*   GPU support not offered by cuDNN when using functionalities that are not optimized. E.g. Recurrent Dropout.\n",
        "\n",
        "*   Alternative: Unroll = True\n",
        "  - Boolean (default False). If True, the network will be unrolled, else a symbolic loop will be used. Unrolling can speed-up a RNN, although it tends to be more memory-intensive. Unrolling is only suitable for short sequences\n",
        "\n",
        "* Dropout\n",
        "  * The Dropout layer randomly sets input units to 0 with a frequency of rate (eg. 0.2 below i.e. 20% nodes to be dropped randomly in the given layer) at each step during training time, which helps prevent overfitting. When using model.fit, training will be appropriately set to True automatically, and in other contexts, you can set the kwarg explicitly to True when calling the layer. This is in contrast to setting trainable=False for a Dropout layer.\n",
        "  \n",
        "*   Caveat: Sequence length must be known apriori\n",
        "\n",
        "\n",
        "\n",
        "\n",
        "\n",
        "\n",
        "\n"
      ],
      "metadata": {
        "id": "pIuyuMtug9oj"
      }
    }
  ],
  "metadata": {
    "colab": {
      "provenance": [],
      "machine_shape": "hm",
      "include_colab_link": true
    },
    "interpreter": {
      "hash": "95695e4e7fb4e5d8f43f0ef208f1f2cd85fdfca6042b19961ba0b28c3caaef60"
    },
    "kernelspec": {
      "display_name": "Python 3",
      "name": "python3"
    },
    "language_info": {
      "codemirror_mode": {
        "name": "ipython",
        "version": 3
      },
      "file_extension": ".py",
      "mimetype": "text/x-python",
      "name": "python",
      "nbconvert_exporter": "python",
      "pygments_lexer": "ipython3",
      "version": "3.9.7"
    }
  },
  "nbformat": 4,
  "nbformat_minor": 0
}